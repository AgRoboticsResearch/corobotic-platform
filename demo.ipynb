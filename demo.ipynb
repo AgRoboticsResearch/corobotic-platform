{
 "cells": [
  {
   "cell_type": "code",
   "execution_count": 1,
   "metadata": {},
   "outputs": [],
   "source": [
    "from mcts.mcts_sparse import MctsSparse\n",
    "from simulator.controller import RandomController, DefaultController\n",
    "from mcts.mcts_utils import ModelWrapper\n",
    "from external_map_evaluate_utils import speed_optimizer\n",
    "from external_map_evaluate_utils import speed_optimizer_mcts_heuristic_speed_up\n",
    "from simulator.externalMapWrapper import ExternalMapWrapper\n",
    "import matplotlib.pyplot as plt\n",
    "import numpy as np\n",
    "\n",
    "%matplotlib inline\n",
    "%load_ext autoreload\n",
    "%autoreload 2"
   ]
  },
  {
   "cell_type": "markdown",
   "metadata": {},
   "source": [
    "## Parameter Setting"
   ]
  },
  {
   "cell_type": "code",
   "execution_count": 2,
   "metadata": {},
   "outputs": [
    {
     "name": "stdout",
     "output_type": "stream",
     "text": [
      "picker_distance_pixels:  6\n",
      "picking_windows_size_half_pixels:  2\n",
      "sensing_offset:  12\n",
      "cam_view_width_pixels:  3\n",
      "max_sensing_limit_meters:  4.67 m\n",
      "max_picking_limit_meters:  2.7 m\n",
      "max_sensing_limit_pixel:  16\n",
      "max_picking_limit_pixel:  9\n"
     ]
    }
   ],
   "source": [
    "# physical parameters for two pickers\n",
    "rear_to_cam_center_meters = 4.22 # meter\n",
    "cam_view_width_meters = 0.9 # meter\n",
    "picker_distance_meters = 1.8 # meter\n",
    "picking_windows_size = 0.9 # meter, center at picker x\n",
    "time_step = 5 # seconds\n",
    "\n",
    "# Picking Parameter Setting\n",
    "pickers_y_init=[1, 4]\n",
    "pickers_speed_init=[0.6, 0.4] # apple/s\n",
    "platform_speed_init = 0.021 # m/s\n",
    "platform_speed_options = [0.08, 0.05, 0.025, 0.01] # m/s\n",
    "\n",
    "# derived digitized parameter\n",
    "BLOCK_SIZE = 0.3 # m\n",
    "picker_distance_pixels = int(picker_distance_meters/BLOCK_SIZE)\n",
    "sensing_offset = int((rear_to_cam_center_meters-cam_view_width_meters/2)/BLOCK_SIZE)\n",
    "cam_view_width_pixels = int(cam_view_width_meters/BLOCK_SIZE)\n",
    "picking_windows_size_half_pixels = int(picking_windows_size/BLOCK_SIZE) - 1 \n",
    "max_sensing_limit_meters = rear_to_cam_center_meters + 0.5 * cam_view_width_meters\n",
    "max_picking_limit_meters = picking_windows_size + picker_distance_meters \n",
    "max_sensing_limit_pixel =  int(max_sensing_limit_meters/BLOCK_SIZE) + 1\n",
    "max_picking_limit_pixel = int(max_picking_limit_meters/BLOCK_SIZE)\n",
    "\n",
    "print(\"picker_distance_pixels: \", picker_distance_pixels)\n",
    "print(\"picking_windows_size_half_pixels: \", picking_windows_size_half_pixels)\n",
    "print(\"sensing_offset: \", sensing_offset)\n",
    "print(\"cam_view_width_pixels: \", cam_view_width_pixels)\n",
    "print(\"max_sensing_limit_meters: \", max_sensing_limit_meters, \"m\")\n",
    "print(\"max_picking_limit_meters: \", max_picking_limit_meters, \"m\")\n",
    "print(\"max_sensing_limit_pixel: \", max_sensing_limit_pixel)\n",
    "print(\"max_picking_limit_pixel: \", max_picking_limit_pixel)\n"
   ]
  },
  {
   "cell_type": "code",
   "execution_count": null,
   "metadata": {},
   "outputs": [],
   "source": []
  },
  {
   "cell_type": "markdown",
   "metadata": {},
   "source": [
    "## Get Fruit Distribution"
   ]
  },
  {
   "cell_type": "code",
   "execution_count": 3,
   "metadata": {},
   "outputs": [
    {
     "name": "stdout",
     "output_type": "stream",
     "text": [
      "external_map shape:  (6, 190)\n",
      "total fruit number:  867.0\n",
      "top fruits:  327.0\n",
      "bottom fruits:  540.0\n",
      "t/b ratio:  0.6055555555555555\n"
     ]
    }
   ],
   "source": [
    "\n",
    "fruit_dist_path = \"./example_fruit_distribution/fruit_dist.map\"\n",
    "external_map = np.loadtxt(fruit_dist_path)\n",
    "print(\"external_map shape: \", external_map.shape)\n",
    "top_fruits = np.sum(external_map[:3,:])\n",
    "bottom_fruits = np.sum(external_map[3:,:])\n",
    "print(\"total fruit number: \", np.sum(external_map))\n",
    "print('top fruits: ', top_fruits)\n",
    "print('bottom fruits: ', bottom_fruits)\n",
    "print('t/b ratio: ', top_fruits/bottom_fruits)\n"
   ]
  },
  {
   "cell_type": "markdown",
   "metadata": {},
   "source": [
    "### Mode 1: Height and speed fixed mode"
   ]
  },
  {
   "cell_type": "code",
   "execution_count": 4,
   "metadata": {},
   "outputs": [
    {
     "name": "stdout",
     "output_type": "stream",
     "text": [
      "num_apple_start:  852.0\n"
     ]
    }
   ],
   "source": [
    "# Create an environment\n",
    "env = ExternalMapWrapper(time_step=time_step, \n",
    "                        pickers_y_init=pickers_y_init, \n",
    "                        pickers_speed_init=pickers_speed_init,  \n",
    "                        platform_speed_init=platform_speed_init,\n",
    "                        rear_to_cam_center_meters=rear_to_cam_center_meters, \n",
    "                        cam_view_width_meters=cam_view_width_meters, \n",
    "                        picker_distance_meters=picker_distance_meters, \n",
    "                        picking_windows_size=picking_windows_size,\n",
    "                        external_map=external_map)\n",
    "num_apple_start = env.count_apple_in_valid_range()\n",
    "print(\"num_apple_start: \", num_apple_start)\n"
   ]
  },
  {
   "cell_type": "code",
   "execution_count": 5,
   "metadata": {},
   "outputs": [
    {
     "name": "stdout",
     "output_type": "stream",
     "text": [
      "------ Mode 1: Height and speed fixed mode ----\n",
      "Apple num:  852.0\n",
      "Left apple:  68.0\n",
      "Picking Percentage: 92.02 %\n",
      "Time to Finish 2505 (s) \n"
     ]
    }
   ],
   "source": [
    "# Run \n",
    "total_steps = 0\n",
    "plot_save_folder = \"./results/mode1/\"\n",
    "render = False\n",
    "\n",
    "while True:\n",
    "    if render:\n",
    "        env.appEnv.show_map(save=plot_save_folder)\n",
    "    action = [0, 0] # [0, 0] means not moving the picker height which is mode 1\n",
    "    done = env.step(action)\n",
    "    total_steps += 1\n",
    "    if done:\n",
    "        break\n",
    "num_apple_left = env.count_apple_in_valid_range()\n",
    "picked_percent = (1 - num_apple_left/num_apple_start)\n",
    "picked_number = (num_apple_start - num_apple_left)\n",
    "\n",
    "print(\"------ Mode 1: Height and speed fixed mode ----\")\n",
    "print(\"Apple num: \", num_apple_start)\n",
    "print(\"Left apple: \", num_apple_left)\n",
    "print(\"Picking Percentage: %.2f %%\" %(picked_percent*100))\n",
    "print(\"Time to Finish %i (s) \" %(total_steps*time_step))\n",
    "\n"
   ]
  },
  {
   "cell_type": "code",
   "execution_count": null,
   "metadata": {},
   "outputs": [],
   "source": []
  },
  {
   "cell_type": "markdown",
   "metadata": {},
   "source": [
    "### Mode 2: Speed-optimized mode"
   ]
  },
  {
   "cell_type": "code",
   "execution_count": 6,
   "metadata": {},
   "outputs": [
    {
     "name": "stdout",
     "output_type": "stream",
     "text": [
      "num_apple_start:  852.0\n"
     ]
    }
   ],
   "source": [
    "# Create an environment\n",
    "env = ExternalMapWrapper(time_step=time_step, \n",
    "                        pickers_y_init=pickers_y_init, \n",
    "                        pickers_speed_init=pickers_speed_init,  \n",
    "                        platform_speed_init=platform_speed_init,\n",
    "                        rear_to_cam_center_meters=rear_to_cam_center_meters, \n",
    "                        cam_view_width_meters=cam_view_width_meters, \n",
    "                        picker_distance_meters=picker_distance_meters, \n",
    "                        picking_windows_size=picking_windows_size,\n",
    "                        external_map=external_map)\n",
    "num_apple_start = env.count_apple_in_valid_range()\n",
    "print(\"num_apple_start: \", num_apple_start)\n"
   ]
  },
  {
   "cell_type": "code",
   "execution_count": 7,
   "metadata": {},
   "outputs": [
    {
     "name": "stdout",
     "output_type": "stream",
     "text": [
      "------ Mode 2: Speed-optimized mode ----\n",
      "Apple num:  852.0\n",
      "Left apple:  36.0\n",
      "Picking Percentage: 95.77 %\n",
      "Time to Finish 2880 (s) \n"
     ]
    }
   ],
   "source": [
    "policy_fn = DefaultController # Height control mode set as fixed\n",
    "min_picking_percentage = 0.9 # only valid for speed optimized modes (mode 2,4), no use for fixed speed modes (mode 1,3)\n",
    "\n",
    "policy = policy_fn(env.appEnv)\n",
    "speed_opt_every_step = True\n",
    "speed_planing_valid_count = np.inf\n",
    "valid_planning_timestep = 0\n",
    "speed_profile_mode2 = []\n",
    "render = False\n",
    "total_steps = 0\n",
    "while True:\n",
    "    if render:\n",
    "        env.appEnv.show_map(save=\"./results/mode2/\")\n",
    "        \n",
    "    # ----------- Speed optimization ----------------\n",
    "    if (speed_planing_valid_count > valid_planning_timestep) or speed_opt_every_step:\n",
    "\n",
    "        opt_speed = speed_optimizer(platform_speed_options, policy_fn, env, pickers_y_init, pickers_speed_init,\n",
    "                                    time_step=time_step,\n",
    "                                    rear_to_cam_center_meters=rear_to_cam_center_meters,\n",
    "                                    cam_view_width_meters=cam_view_width_meters, \n",
    "                                    picker_distance_meters=picker_distance_meters,\n",
    "                                    picking_windows_size=picking_windows_size, \n",
    "                                    min_picking_percentage=min_picking_percentage)\n",
    "\n",
    "        # Set speed\n",
    "        env.platform_speed = opt_speed\n",
    "        env.appEnv.platform_speed = opt_speed\n",
    "\n",
    "        # Calculate speed valid time\n",
    "        valid_planning_range = env.appEnv.map.shape[1] - env.max_sensing_limit_pixel - (env.appEnv.PICKER_DISTANCE + 2*env.appEnv.PICKING_WINDOWS_SIZE)\n",
    "        valid_planning_period = (valid_planning_range*env.block_size)/env.platform_speed \n",
    "        valid_planning_timestep = min(5, int((valid_planning_period/time_step)/2)) # divide by 2 to increase speed planning frequency in order to deal with sensing changing        \n",
    "        speed_planing_valid_count = 0\n",
    "\n",
    "        if not speed_opt_every_step:\n",
    "            print(\"planning speed: \", opt_speed)\n",
    "            print(\"planning speed valid for : \", valid_planning_timestep, \" step\") \n",
    "\n",
    "    speed_profile_mode2.append(env.appEnv.platform_speed)\n",
    "\n",
    "    # -----------------------------------------------         \n",
    "    action = policy.get_action(env.state)\n",
    "    done = env.step(action)\n",
    "    total_steps += 1\n",
    "    if done:\n",
    "        break\n",
    "\n",
    "num_apple_left = env.count_apple_in_valid_range()\n",
    "picked_percent = (1 - num_apple_left/num_apple_start)\n",
    "picked_number = (num_apple_start - num_apple_left)\n",
    "\n",
    "print(\"------ Mode 2: Speed-optimized mode ----\")\n",
    "print(\"Apple num: \", num_apple_start)\n",
    "print(\"Left apple: \", num_apple_left)\n",
    "print(\"Picking Percentage: %.2f %%\" %(picked_percent*100))\n",
    "print(\"Time to Finish %i (s) \" %(total_steps*time_step))\n"
   ]
  },
  {
   "cell_type": "code",
   "execution_count": null,
   "metadata": {},
   "outputs": [],
   "source": []
  },
  {
   "cell_type": "markdown",
   "metadata": {},
   "source": [
    "### Mode 3: Height-optimized mode"
   ]
  },
  {
   "cell_type": "code",
   "execution_count": 8,
   "metadata": {},
   "outputs": [
    {
     "name": "stdout",
     "output_type": "stream",
     "text": [
      "num_apple_start:  852.0\n"
     ]
    }
   ],
   "source": [
    "# Create an environment\n",
    "env = ExternalMapWrapper(time_step=time_step, \n",
    "                        pickers_y_init=pickers_y_init, \n",
    "                        pickers_speed_init=pickers_speed_init,  \n",
    "                        platform_speed_init=platform_speed_init,\n",
    "                        rear_to_cam_center_meters=rear_to_cam_center_meters, \n",
    "                        cam_view_width_meters=cam_view_width_meters, \n",
    "                        picker_distance_meters=picker_distance_meters, \n",
    "                        picking_windows_size=picking_windows_size,\n",
    "                        external_map=external_map)\n",
    "num_apple_start = env.count_apple_in_valid_range()\n",
    "print(\"num_apple_start: \", num_apple_start)\n"
   ]
  },
  {
   "cell_type": "code",
   "execution_count": 9,
   "metadata": {},
   "outputs": [],
   "source": [
    "plan_depth = 2\n",
    "sample_num_per_action = 2\n",
    "extra_search_depth = 5\n",
    "extra_search_sample = 3\n",
    "gamma = 0.99\n"
   ]
  },
  {
   "cell_type": "code",
   "execution_count": 10,
   "metadata": {},
   "outputs": [
    {
     "name": "stdout",
     "output_type": "stream",
     "text": [
      "------ Mode 3: Height-optimized mode ----\n",
      "Apple num:  852.0\n",
      "Left apple:  31.0\n",
      "Picking Percentage: 96.36 %\n",
      "Time to Finish 2505 (s) \n"
     ]
    }
   ],
   "source": [
    "random_policy_fn = RandomController(env.appEnv)\n",
    "model_fn = ModelWrapper(env.appEnv)\n",
    "\n",
    "# establish a sparse sampling picker heighet optimizer\n",
    "sparse_sampling = MctsSparse(env.appEnv, plan_depth, gamma, model_fn, random_policy_fn, \n",
    "                                extra_search_depth=extra_search_depth, extra_search_sample=extra_search_sample)\n",
    "num_apple_start = env.count_apple_in_valid_range()\n",
    "render = False\n",
    "total_steps = 0\n",
    "while True:\n",
    "    if render:\n",
    "        env.appEnv.show_map(save=\"./results/mode3/\")\n",
    "    # Get the optimal picker height control action from the optimizer\n",
    "    action, best_q = sparse_sampling.run(sample_num_per_action=sample_num_per_action) \n",
    "    done = env.step(action)\n",
    "    total_steps += 1\n",
    "    if done:\n",
    "        break\n",
    "\n",
    "num_apple_left = env.count_apple_in_valid_range()\n",
    "if num_apple_start!=0:\n",
    "    picked_percent = (1 - num_apple_left/num_apple_start)\n",
    "else:\n",
    "    picked_percent = 1\n",
    "picked_number = (num_apple_start - num_apple_left)\n",
    "\n",
    "print(\"------ Mode 3: Height-optimized mode ----\")\n",
    "print(\"Apple num: \", num_apple_start)\n",
    "print(\"Left apple: \", num_apple_left)\n",
    "print(\"Picking Percentage: %.2f %%\" %(picked_percent*100))\n",
    "print(\"Time to Finish %i (s) \" %(total_steps*time_step))\n"
   ]
  },
  {
   "cell_type": "code",
   "execution_count": null,
   "metadata": {},
   "outputs": [],
   "source": []
  },
  {
   "cell_type": "code",
   "execution_count": null,
   "metadata": {},
   "outputs": [],
   "source": []
  },
  {
   "cell_type": "markdown",
   "metadata": {},
   "source": [
    "### Mode 4: Full co-robotic mode"
   ]
  },
  {
   "cell_type": "code",
   "execution_count": 11,
   "metadata": {},
   "outputs": [
    {
     "name": "stdout",
     "output_type": "stream",
     "text": [
      "num_apple_start:  852.0\n"
     ]
    }
   ],
   "source": [
    "# Create an environment\n",
    "env = ExternalMapWrapper(time_step=time_step, \n",
    "                        pickers_y_init=pickers_y_init, \n",
    "                        pickers_speed_init=pickers_speed_init,  \n",
    "                        platform_speed_init=platform_speed_init,\n",
    "                        rear_to_cam_center_meters=rear_to_cam_center_meters, \n",
    "                        cam_view_width_meters=cam_view_width_meters, \n",
    "                        picker_distance_meters=picker_distance_meters, \n",
    "                        picking_windows_size=picking_windows_size,\n",
    "                        external_map=external_map)\n",
    "num_apple_start = env.count_apple_in_valid_range()\n",
    "print(\"num_apple_start: \", num_apple_start)\n"
   ]
  },
  {
   "cell_type": "code",
   "execution_count": 12,
   "metadata": {},
   "outputs": [],
   "source": [
    "heuristic_policy_fn = RandomController\n",
    "speed_opt_every_step = True\n",
    "random_policy_fn = RandomController(env.appEnv)\n"
   ]
  },
  {
   "cell_type": "code",
   "execution_count": 13,
   "metadata": {},
   "outputs": [
    {
     "name": "stdout",
     "output_type": "stream",
     "text": [
      "------ Mode 4: Co Robotic mode ----\n",
      "Apple num:  852.0\n",
      "Left apple:  29.0\n",
      "Picking Percentage: 96.60 %\n",
      "Time to Finish 1860 (s) \n"
     ]
    }
   ],
   "source": [
    "model_fn = ModelWrapper(env.appEnv)\n",
    "sparse_sampling = MctsSparse(env.appEnv, plan_depth, gamma, model_fn, random_policy_fn, \n",
    "                            extra_search_depth=extra_search_depth, extra_search_sample=extra_search_sample)\n",
    "\n",
    "\n",
    "\n",
    "total_steps = 0\n",
    "speed_planing_valid_count = np.inf\n",
    "valid_planning_timestep = 0\n",
    "speed_profile_mode4 = []\n",
    "render = False\n",
    "while True:\n",
    "    speed_planing_valid_count += 1\n",
    "    if render:\n",
    "        env.appEnv.show_map(save=\"./results/mode4/\")\n",
    "    \n",
    "    # ----------- Speed optimization ----------------\n",
    "    if speed_planing_valid_count > valid_planning_timestep or speed_opt_every_step:\n",
    "        opt_speed = speed_optimizer_mcts_heuristic_speed_up(platform_speed_options,heuristic_policy_fn, env, pickers_y_init, pickers_speed_init,\n",
    "                                        plan_depth, sample_num_per_action, extra_search_depth, extra_search_sample, \n",
    "                                        time_step=time_step,\n",
    "                                        rear_to_cam_center_meters=rear_to_cam_center_meters,\n",
    "                                        cam_view_width_meters=cam_view_width_meters, \n",
    "                                        picker_distance_meters=picker_distance_meters,\n",
    "                                        picking_windows_size=picking_windows_size, \n",
    "                                        min_picking_percentage=min_picking_percentage,\n",
    "                                        verbose=False)            \n",
    "\n",
    "        # Set speed\n",
    "        env.platform_speed = opt_speed\n",
    "        env.appEnv.platform_speed = opt_speed\n",
    "\n",
    "        # Calculate speed valid time\n",
    "        valid_planning_range = env.appEnv.map.shape[1] - env.max_sensing_limit_pixel - (env.appEnv.PICKER_DISTANCE + 2*env.appEnv.PICKING_WINDOWS_SIZE)\n",
    "        valid_planning_period = (valid_planning_range*env.block_size)/env.platform_speed \n",
    "        valid_planning_timestep = min(5, int((valid_planning_period/time_step)/2)) # divide by 2 to increase speed planning frequency in order to deal with sensing changing        \n",
    "        speed_planing_valid_count = 0\n",
    "\n",
    "        if not speed_opt_every_step:\n",
    "            print(\"planning speed: \", opt_speed)\n",
    "            print(\"planning speed valid for : \", valid_planning_timestep, \" step\")\n",
    "\n",
    "    speed_profile_mode4.append(env.appEnv.platform_speed)\n",
    "    # ----------- Height optimization ----------------\n",
    "    action, best_q = sparse_sampling.run(sample_num_per_action=sample_num_per_action)\n",
    "    done = env.step(action)\n",
    "    total_steps += 1\n",
    "    if done:\n",
    "        break\n",
    "\n",
    "num_apple_left = env.count_apple_in_valid_range()\n",
    "picked_percent = (1 - num_apple_left/num_apple_start)\n",
    "picked_number = (num_apple_start - num_apple_left)\n",
    "\n",
    "max_picking = env.max_picking()\n",
    "effective_picking_efficiency = (num_apple_start - num_apple_left)/max_picking\n",
    "\n",
    "\n",
    "print(\"------ Mode 4: Co Robotic mode ----\")\n",
    "print(\"Apple num: \", num_apple_start)\n",
    "print(\"Left apple: \", num_apple_left)\n",
    "print(\"Picking Percentage: %.2f %%\" %(picked_percent*100))\n",
    "print(\"Time to Finish %i (s) \" %(total_steps*time_step))\n"
   ]
  },
  {
   "cell_type": "code",
   "execution_count": null,
   "metadata": {},
   "outputs": [],
   "source": []
  }
 ],
 "metadata": {
  "kernelspec": {
   "display_name": "base",
   "language": "python",
   "name": "python3"
  },
  "language_info": {
   "codemirror_mode": {
    "name": "ipython",
    "version": 3
   },
   "file_extension": ".py",
   "mimetype": "text/x-python",
   "name": "python",
   "nbconvert_exporter": "python",
   "pygments_lexer": "ipython3",
   "version": "3.11.5"
  }
 },
 "nbformat": 4,
 "nbformat_minor": 2
}
